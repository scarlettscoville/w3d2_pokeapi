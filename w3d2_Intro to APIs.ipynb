{
 "cells": [
  {
   "cell_type": "markdown",
   "id": "7196054f",
   "metadata": {},
   "source": [
    "# Working with APIs"
   ]
  },
  {
   "cell_type": "markdown",
   "id": "0547b71e",
   "metadata": {},
   "source": [
    "API stands for Application programming interface<br>\n",
    "APIs are a way for applications to talk to eachother<br>\n",
    "In python we use the requests package to handle the connection<br>\n",
    "<small><strong>Note: It is requests with an s not request(this is a different package)</strong></small><br>\n",
    "Most API's communicate with data in the form of JSON<br>\n",
    "JSON stands for JavaScript Object Notation"
   ]
  },
  {
   "cell_type": "code",
   "execution_count": 2,
   "id": "4db9d154",
   "metadata": {},
   "outputs": [],
   "source": [
    "#import the packages we need:\n",
    "import requests"
   ]
  },
  {
   "cell_type": "markdown",
   "id": "e8c2ce51",
   "metadata": {},
   "source": [
    "We will be connecting to the Ergast F1 Racer API today:\n",
    "http://ergast.com/mrd/\n",
    "\n",
    "to view JSON data nicely in the Chrome browser install the extension JSONview"
   ]
  },
  {
   "cell_type": "code",
   "execution_count": 3,
   "id": "52c440c6",
   "metadata": {},
   "outputs": [
    {
     "name": "stdout",
     "output_type": "stream",
     "text": [
      "Help on package requests:\n",
      "\n",
      "NAME\n",
      "    requests\n",
      "\n",
      "DESCRIPTION\n",
      "    Requests HTTP Library\n",
      "    ~~~~~~~~~~~~~~~~~~~~~\n",
      "    \n",
      "    Requests is an HTTP library, written in Python, for human beings.\n",
      "    Basic GET usage:\n",
      "    \n",
      "       >>> import requests\n",
      "       >>> r = requests.get('https://www.python.org')\n",
      "       >>> r.status_code\n",
      "       200\n",
      "       >>> b'Python is a programming language' in r.content\n",
      "       True\n",
      "    \n",
      "    ... or POST:\n",
      "    \n",
      "       >>> payload = dict(key1='value1', key2='value2')\n",
      "       >>> r = requests.post('https://httpbin.org/post', data=payload)\n",
      "       >>> print(r.text)\n",
      "       {\n",
      "         ...\n",
      "         \"form\": {\n",
      "           \"key1\": \"value1\",\n",
      "           \"key2\": \"value2\"\n",
      "         },\n",
      "         ...\n",
      "       }\n",
      "    \n",
      "    The other HTTP methods are supported - see `requests.api`. Full documentation\n",
      "    is at <https://requests.readthedocs.io>.\n",
      "    \n",
      "    :copyright: (c) 2017 by Kenneth Reitz.\n",
      "    :license: Apache 2.0, see LICENSE for more details.\n",
      "\n",
      "PACKAGE CONTENTS\n",
      "    __version__\n",
      "    _internal_utils\n",
      "    adapters\n",
      "    api\n",
      "    auth\n",
      "    certs\n",
      "    compat\n",
      "    cookies\n",
      "    exceptions\n",
      "    help\n",
      "    hooks\n",
      "    models\n",
      "    packages\n",
      "    sessions\n",
      "    status_codes\n",
      "    structures\n",
      "    utils\n",
      "\n",
      "FUNCTIONS\n",
      "    check_compatibility(urllib3_version, chardet_version, charset_normalizer_version)\n",
      "\n",
      "DATA\n",
      "    __author_email__ = 'me@kennethreitz.org'\n",
      "    __build__ = 140800\n",
      "    __cake__ = '✨ 🍰 ✨'\n",
      "    __copyright__ = 'Copyright 2020 Kenneth Reitz'\n",
      "    __description__ = 'Python HTTP for Humans.'\n",
      "    __license__ = 'Apache 2.0'\n",
      "    __title__ = 'requests'\n",
      "    __url__ = 'https://requests.readthedocs.io'\n",
      "    chardet_version = '4.0.0'\n",
      "    charset_normalizer_version = '2.0.4'\n",
      "    codes = <lookup 'status_codes'>\n",
      "\n",
      "VERSION\n",
      "    2.26.0\n",
      "\n",
      "AUTHOR\n",
      "    Kenneth Reitz\n",
      "\n",
      "FILE\n",
      "    c:\\users\\scarl\\anaconda3\\lib\\site-packages\\requests\\__init__.py\n",
      "\n",
      "\n"
     ]
    }
   ],
   "source": [
    "help(requests)"
   ]
  },
  {
   "cell_type": "code",
   "execution_count": 6,
   "id": "f60c1b4a",
   "metadata": {},
   "outputs": [],
   "source": [
    "url = 'http://ergast.com/api/f1/2008/5/driverStandings.json'"
   ]
  },
  {
   "cell_type": "code",
   "execution_count": 7,
   "id": "7b63a204",
   "metadata": {},
   "outputs": [
    {
     "name": "stdout",
     "output_type": "stream",
     "text": [
      "<Response [200]>\n"
     ]
    }
   ],
   "source": [
    "#response object\n",
    "response = requests.get(url)\n",
    "print(response)"
   ]
  },
  {
   "cell_type": "code",
   "execution_count": 8,
   "id": "c6d1fdaf",
   "metadata": {},
   "outputs": [
    {
     "data": {
      "text/plain": [
       "True"
      ]
     },
     "execution_count": 8,
     "metadata": {},
     "output_type": "execute_result"
    }
   ],
   "source": [
    "#check and make sure we got a successful response from the API\n",
    "response.ok"
   ]
  },
  {
   "cell_type": "code",
   "execution_count": 13,
   "id": "ed4d3256",
   "metadata": {},
   "outputs": [
    {
     "name": "stdout",
     "output_type": "stream",
     "text": [
      "{'MRData': {'xmlns': 'http://ergast.com/mrd/1.5', 'series': 'f1', 'url': 'http://ergast.com/api/f1/2008/5/driverstandings.json', 'limit': '30', 'offset': '0', 'total': '22', 'StandingsTable': {'season': '2008', 'round': '5', 'StandingsLists': [{'season': '2008', 'round': '5', 'DriverStandings': [{'position': '1', 'positionText': '1', 'points': '35', 'wins': '2', 'Driver': {'driverId': 'raikkonen', 'permanentNumber': '7', 'code': 'RAI', 'url': 'http://en.wikipedia.org/wiki/Kimi_R%C3%A4ikk%C3%B6nen', 'givenName': 'Kimi', 'familyName': 'Räikkönen', 'dateOfBirth': '1979-10-17', 'nationality': 'Finnish'}, 'Constructors': [{'constructorId': 'ferrari', 'url': 'http://en.wikipedia.org/wiki/Scuderia_Ferrari', 'name': 'Ferrari', 'nationality': 'Italian'}]}, {'position': '2', 'positionText': '2', 'points': '28', 'wins': '2', 'Driver': {'driverId': 'massa', 'permanentNumber': '19', 'code': 'MAS', 'url': 'http://en.wikipedia.org/wiki/Felipe_Massa', 'givenName': 'Felipe', 'familyName': 'Massa', 'dateOfBirth': '1981-04-25', 'nationality': 'Brazilian'}, 'Constructors': [{'constructorId': 'ferrari', 'url': 'http://en.wikipedia.org/wiki/Scuderia_Ferrari', 'name': 'Ferrari', 'nationality': 'Italian'}]}, {'position': '3', 'positionText': '3', 'points': '28', 'wins': '1', 'Driver': {'driverId': 'hamilton', 'permanentNumber': '44', 'code': 'HAM', 'url': 'http://en.wikipedia.org/wiki/Lewis_Hamilton', 'givenName': 'Lewis', 'familyName': 'Hamilton', 'dateOfBirth': '1985-01-07', 'nationality': 'British'}, 'Constructors': [{'constructorId': 'mclaren', 'url': 'http://en.wikipedia.org/wiki/McLaren', 'name': 'McLaren', 'nationality': 'British'}]}, {'position': '4', 'positionText': '4', 'points': '24', 'wins': '0', 'Driver': {'driverId': 'kubica', 'permanentNumber': '88', 'code': 'KUB', 'url': 'http://en.wikipedia.org/wiki/Robert_Kubica', 'givenName': 'Robert', 'familyName': 'Kubica', 'dateOfBirth': '1984-12-07', 'nationality': 'Polish'}, 'Constructors': [{'constructorId': 'bmw_sauber', 'url': 'http://en.wikipedia.org/wiki/BMW_Sauber', 'name': 'BMW Sauber', 'nationality': 'German'}]}, {'position': '5', 'positionText': '5', 'points': '20', 'wins': '0', 'Driver': {'driverId': 'heidfeld', 'code': 'HEI', 'url': 'http://en.wikipedia.org/wiki/Nick_Heidfeld', 'givenName': 'Nick', 'familyName': 'Heidfeld', 'dateOfBirth': '1977-05-10', 'nationality': 'German'}, 'Constructors': [{'constructorId': 'bmw_sauber', 'url': 'http://en.wikipedia.org/wiki/BMW_Sauber', 'name': 'BMW Sauber', 'nationality': 'German'}]}, {'position': '6', 'positionText': '6', 'points': '14', 'wins': '0', 'Driver': {'driverId': 'kovalainen', 'code': 'KOV', 'url': 'http://en.wikipedia.org/wiki/Heikki_Kovalainen', 'givenName': 'Heikki', 'familyName': 'Kovalainen', 'dateOfBirth': '1981-10-19', 'nationality': 'Finnish'}, 'Constructors': [{'constructorId': 'mclaren', 'url': 'http://en.wikipedia.org/wiki/McLaren', 'name': 'McLaren', 'nationality': 'British'}]}, {'position': '7', 'positionText': '7', 'points': '10', 'wins': '0', 'Driver': {'driverId': 'webber', 'code': 'WEB', 'url': 'http://en.wikipedia.org/wiki/Mark_Webber_(racing_driver)', 'givenName': 'Mark', 'familyName': 'Webber', 'dateOfBirth': '1976-08-27', 'nationality': 'Australian'}, 'Constructors': [{'constructorId': 'red_bull', 'url': 'http://en.wikipedia.org/wiki/Red_Bull_Racing', 'name': 'Red Bull', 'nationality': 'Austrian'}]}, {'position': '8', 'positionText': '8', 'points': '9', 'wins': '0', 'Driver': {'driverId': 'alonso', 'permanentNumber': '14', 'code': 'ALO', 'url': 'http://en.wikipedia.org/wiki/Fernando_Alonso', 'givenName': 'Fernando', 'familyName': 'Alonso', 'dateOfBirth': '1981-07-29', 'nationality': 'Spanish'}, 'Constructors': [{'constructorId': 'renault', 'url': 'http://en.wikipedia.org/wiki/Renault_in_Formula_One', 'name': 'Renault', 'nationality': 'French'}]}, {'position': '9', 'positionText': '9', 'points': '9', 'wins': '0', 'Driver': {'driverId': 'trulli', 'code': 'TRU', 'url': 'http://en.wikipedia.org/wiki/Jarno_Trulli', 'givenName': 'Jarno', 'familyName': 'Trulli', 'dateOfBirth': '1974-07-13', 'nationality': 'Italian'}, 'Constructors': [{'constructorId': 'toyota', 'url': 'http://en.wikipedia.org/wiki/Toyota_Racing', 'name': 'Toyota', 'nationality': 'Japanese'}]}, {'position': '10', 'positionText': '10', 'points': '8', 'wins': '0', 'Driver': {'driverId': 'rosberg', 'permanentNumber': '6', 'code': 'ROS', 'url': 'http://en.wikipedia.org/wiki/Nico_Rosberg', 'givenName': 'Nico', 'familyName': 'Rosberg', 'dateOfBirth': '1985-06-27', 'nationality': 'German'}, 'Constructors': [{'constructorId': 'williams', 'url': 'http://en.wikipedia.org/wiki/Williams_Grand_Prix_Engineering', 'name': 'Williams', 'nationality': 'British'}]}, {'position': '11', 'positionText': '11', 'points': '5', 'wins': '0', 'Driver': {'driverId': 'nakajima', 'code': 'NAK', 'url': 'http://en.wikipedia.org/wiki/Kazuki_Nakajima', 'givenName': 'Kazuki', 'familyName': 'Nakajima', 'dateOfBirth': '1985-01-11', 'nationality': 'Japanese'}, 'Constructors': [{'constructorId': 'williams', 'url': 'http://en.wikipedia.org/wiki/Williams_Grand_Prix_Engineering', 'name': 'Williams', 'nationality': 'British'}]}, {'position': '12', 'positionText': '12', 'points': '3', 'wins': '0', 'Driver': {'driverId': 'button', 'permanentNumber': '22', 'code': 'BUT', 'url': 'http://en.wikipedia.org/wiki/Jenson_Button', 'givenName': 'Jenson', 'familyName': 'Button', 'dateOfBirth': '1980-01-19', 'nationality': 'British'}, 'Constructors': [{'constructorId': 'honda', 'url': 'http://en.wikipedia.org/wiki/Honda_Racing_F1', 'name': 'Honda', 'nationality': 'Japanese'}]}, {'position': '13', 'positionText': '13', 'points': '2', 'wins': '0', 'Driver': {'driverId': 'bourdais', 'code': 'BOU', 'url': 'http://en.wikipedia.org/wiki/S%C3%A9bastien_Bourdais', 'givenName': 'Sébastien', 'familyName': 'Bourdais', 'dateOfBirth': '1979-02-28', 'nationality': 'French'}, 'Constructors': [{'constructorId': 'toro_rosso', 'url': 'http://en.wikipedia.org/wiki/Scuderia_Toro_Rosso', 'name': 'Toro Rosso', 'nationality': 'Italian'}]}, {'position': '14', 'positionText': '14', 'points': '0', 'wins': '0', 'Driver': {'driverId': 'coulthard', 'code': 'COU', 'url': 'http://en.wikipedia.org/wiki/David_Coulthard', 'givenName': 'David', 'familyName': 'Coulthard', 'dateOfBirth': '1971-03-27', 'nationality': 'British'}, 'Constructors': [{'constructorId': 'red_bull', 'url': 'http://en.wikipedia.org/wiki/Red_Bull_Racing', 'name': 'Red Bull', 'nationality': 'Austrian'}]}, {'position': '15', 'positionText': '15', 'points': '0', 'wins': '0', 'Driver': {'driverId': 'glock', 'code': 'GLO', 'url': 'http://en.wikipedia.org/wiki/Timo_Glock', 'givenName': 'Timo', 'familyName': 'Glock', 'dateOfBirth': '1982-03-18', 'nationality': 'German'}, 'Constructors': [{'constructorId': 'toyota', 'url': 'http://en.wikipedia.org/wiki/Toyota_Racing', 'name': 'Toyota', 'nationality': 'Japanese'}]}, {'position': '16', 'positionText': '16', 'points': '0', 'wins': '0', 'Driver': {'driverId': 'fisichella', 'code': 'FIS', 'url': 'http://en.wikipedia.org/wiki/Giancarlo_Fisichella', 'givenName': 'Giancarlo', 'familyName': 'Fisichella', 'dateOfBirth': '1973-01-14', 'nationality': 'Italian'}, 'Constructors': [{'constructorId': 'force_india', 'url': 'http://en.wikipedia.org/wiki/Racing_Point_Force_India', 'name': 'Force India', 'nationality': 'Indian'}]}, {'position': '17', 'positionText': '17', 'points': '0', 'wins': '0', 'Driver': {'driverId': 'barrichello', 'code': 'BAR', 'url': 'http://en.wikipedia.org/wiki/Rubens_Barrichello', 'givenName': 'Rubens', 'familyName': 'Barrichello', 'dateOfBirth': '1972-05-23', 'nationality': 'Brazilian'}, 'Constructors': [{'constructorId': 'honda', 'url': 'http://en.wikipedia.org/wiki/Honda_Racing_F1', 'name': 'Honda', 'nationality': 'Japanese'}]}, {'position': '18', 'positionText': '18', 'points': '0', 'wins': '0', 'Driver': {'driverId': 'piquet_jr', 'code': 'PIQ', 'url': 'http://en.wikipedia.org/wiki/Nelson_Piquet,_Jr.', 'givenName': 'Nelson', 'familyName': 'Piquet Jr.', 'dateOfBirth': '1985-07-25', 'nationality': 'Brazilian'}, 'Constructors': [{'constructorId': 'renault', 'url': 'http://en.wikipedia.org/wiki/Renault_in_Formula_One', 'name': 'Renault', 'nationality': 'French'}]}, {'position': '19', 'positionText': '19', 'points': '0', 'wins': '0', 'Driver': {'driverId': 'sato', 'code': 'SAT', 'url': 'http://en.wikipedia.org/wiki/Takuma_Sato', 'givenName': 'Takuma', 'familyName': 'Sato', 'dateOfBirth': '1977-01-28', 'nationality': 'Japanese'}, 'Constructors': [{'constructorId': 'super_aguri', 'url': 'http://en.wikipedia.org/wiki/Super_Aguri_F1', 'name': 'Super Aguri', 'nationality': 'Japanese'}]}, {'position': '20', 'positionText': '20', 'points': '0', 'wins': '0', 'Driver': {'driverId': 'davidson', 'code': 'DAV', 'url': 'http://en.wikipedia.org/wiki/Anthony_Davidson', 'givenName': 'Anthony', 'familyName': 'Davidson', 'dateOfBirth': '1979-04-18', 'nationality': 'British'}, 'Constructors': [{'constructorId': 'super_aguri', 'url': 'http://en.wikipedia.org/wiki/Super_Aguri_F1', 'name': 'Super Aguri', 'nationality': 'Japanese'}]}, {'position': '21', 'positionText': '21', 'points': '0', 'wins': '0', 'Driver': {'driverId': 'sutil', 'permanentNumber': '99', 'code': 'SUT', 'url': 'http://en.wikipedia.org/wiki/Adrian_Sutil', 'givenName': 'Adrian', 'familyName': 'Sutil', 'dateOfBirth': '1983-01-11', 'nationality': 'German'}, 'Constructors': [{'constructorId': 'force_india', 'url': 'http://en.wikipedia.org/wiki/Racing_Point_Force_India', 'name': 'Force India', 'nationality': 'Indian'}]}, {'position': '22', 'positionText': '22', 'points': '0', 'wins': '0', 'Driver': {'driverId': 'vettel', 'permanentNumber': '5', 'code': 'VET', 'url': 'http://en.wikipedia.org/wiki/Sebastian_Vettel', 'givenName': 'Sebastian', 'familyName': 'Vettel', 'dateOfBirth': '1987-07-03', 'nationality': 'German'}, 'Constructors': [{'constructorId': 'toro_rosso', 'url': 'http://en.wikipedia.org/wiki/Scuderia_Toro_Rosso', 'name': 'Toro Rosso', 'nationality': 'Italian'}]}]}]}}}\n"
     ]
    }
   ],
   "source": [
    "#view the response as a JSON\n",
    "print(response.json())\n"
   ]
  },
  {
   "cell_type": "code",
   "execution_count": 12,
   "id": "92e6cd2c",
   "metadata": {},
   "outputs": [
    {
     "name": "stdout",
     "output_type": "stream",
     "text": [
      "<class 'dict'>\n"
     ]
    }
   ],
   "source": [
    "print(type(response.json()))"
   ]
  },
  {
   "cell_type": "code",
   "execution_count": 14,
   "id": "f074dfcf",
   "metadata": {},
   "outputs": [
    {
     "name": "stdout",
     "output_type": "stream",
     "text": [
      "[{'position': '1', 'positionText': '1', 'points': '35', 'wins': '2', 'Driver': {'driverId': 'raikkonen', 'permanentNumber': '7', 'code': 'RAI', 'url': 'http://en.wikipedia.org/wiki/Kimi_R%C3%A4ikk%C3%B6nen', 'givenName': 'Kimi', 'familyName': 'Räikkönen', 'dateOfBirth': '1979-10-17', 'nationality': 'Finnish'}, 'Constructors': [{'constructorId': 'ferrari', 'url': 'http://en.wikipedia.org/wiki/Scuderia_Ferrari', 'name': 'Ferrari', 'nationality': 'Italian'}]}, {'position': '2', 'positionText': '2', 'points': '28', 'wins': '2', 'Driver': {'driverId': 'massa', 'permanentNumber': '19', 'code': 'MAS', 'url': 'http://en.wikipedia.org/wiki/Felipe_Massa', 'givenName': 'Felipe', 'familyName': 'Massa', 'dateOfBirth': '1981-04-25', 'nationality': 'Brazilian'}, 'Constructors': [{'constructorId': 'ferrari', 'url': 'http://en.wikipedia.org/wiki/Scuderia_Ferrari', 'name': 'Ferrari', 'nationality': 'Italian'}]}, {'position': '3', 'positionText': '3', 'points': '28', 'wins': '1', 'Driver': {'driverId': 'hamilton', 'permanentNumber': '44', 'code': 'HAM', 'url': 'http://en.wikipedia.org/wiki/Lewis_Hamilton', 'givenName': 'Lewis', 'familyName': 'Hamilton', 'dateOfBirth': '1985-01-07', 'nationality': 'British'}, 'Constructors': [{'constructorId': 'mclaren', 'url': 'http://en.wikipedia.org/wiki/McLaren', 'name': 'McLaren', 'nationality': 'British'}]}, {'position': '4', 'positionText': '4', 'points': '24', 'wins': '0', 'Driver': {'driverId': 'kubica', 'permanentNumber': '88', 'code': 'KUB', 'url': 'http://en.wikipedia.org/wiki/Robert_Kubica', 'givenName': 'Robert', 'familyName': 'Kubica', 'dateOfBirth': '1984-12-07', 'nationality': 'Polish'}, 'Constructors': [{'constructorId': 'bmw_sauber', 'url': 'http://en.wikipedia.org/wiki/BMW_Sauber', 'name': 'BMW Sauber', 'nationality': 'German'}]}, {'position': '5', 'positionText': '5', 'points': '20', 'wins': '0', 'Driver': {'driverId': 'heidfeld', 'code': 'HEI', 'url': 'http://en.wikipedia.org/wiki/Nick_Heidfeld', 'givenName': 'Nick', 'familyName': 'Heidfeld', 'dateOfBirth': '1977-05-10', 'nationality': 'German'}, 'Constructors': [{'constructorId': 'bmw_sauber', 'url': 'http://en.wikipedia.org/wiki/BMW_Sauber', 'name': 'BMW Sauber', 'nationality': 'German'}]}, {'position': '6', 'positionText': '6', 'points': '14', 'wins': '0', 'Driver': {'driverId': 'kovalainen', 'code': 'KOV', 'url': 'http://en.wikipedia.org/wiki/Heikki_Kovalainen', 'givenName': 'Heikki', 'familyName': 'Kovalainen', 'dateOfBirth': '1981-10-19', 'nationality': 'Finnish'}, 'Constructors': [{'constructorId': 'mclaren', 'url': 'http://en.wikipedia.org/wiki/McLaren', 'name': 'McLaren', 'nationality': 'British'}]}, {'position': '7', 'positionText': '7', 'points': '10', 'wins': '0', 'Driver': {'driverId': 'webber', 'code': 'WEB', 'url': 'http://en.wikipedia.org/wiki/Mark_Webber_(racing_driver)', 'givenName': 'Mark', 'familyName': 'Webber', 'dateOfBirth': '1976-08-27', 'nationality': 'Australian'}, 'Constructors': [{'constructorId': 'red_bull', 'url': 'http://en.wikipedia.org/wiki/Red_Bull_Racing', 'name': 'Red Bull', 'nationality': 'Austrian'}]}, {'position': '8', 'positionText': '8', 'points': '9', 'wins': '0', 'Driver': {'driverId': 'alonso', 'permanentNumber': '14', 'code': 'ALO', 'url': 'http://en.wikipedia.org/wiki/Fernando_Alonso', 'givenName': 'Fernando', 'familyName': 'Alonso', 'dateOfBirth': '1981-07-29', 'nationality': 'Spanish'}, 'Constructors': [{'constructorId': 'renault', 'url': 'http://en.wikipedia.org/wiki/Renault_in_Formula_One', 'name': 'Renault', 'nationality': 'French'}]}, {'position': '9', 'positionText': '9', 'points': '9', 'wins': '0', 'Driver': {'driverId': 'trulli', 'code': 'TRU', 'url': 'http://en.wikipedia.org/wiki/Jarno_Trulli', 'givenName': 'Jarno', 'familyName': 'Trulli', 'dateOfBirth': '1974-07-13', 'nationality': 'Italian'}, 'Constructors': [{'constructorId': 'toyota', 'url': 'http://en.wikipedia.org/wiki/Toyota_Racing', 'name': 'Toyota', 'nationality': 'Japanese'}]}, {'position': '10', 'positionText': '10', 'points': '8', 'wins': '0', 'Driver': {'driverId': 'rosberg', 'permanentNumber': '6', 'code': 'ROS', 'url': 'http://en.wikipedia.org/wiki/Nico_Rosberg', 'givenName': 'Nico', 'familyName': 'Rosberg', 'dateOfBirth': '1985-06-27', 'nationality': 'German'}, 'Constructors': [{'constructorId': 'williams', 'url': 'http://en.wikipedia.org/wiki/Williams_Grand_Prix_Engineering', 'name': 'Williams', 'nationality': 'British'}]}, {'position': '11', 'positionText': '11', 'points': '5', 'wins': '0', 'Driver': {'driverId': 'nakajima', 'code': 'NAK', 'url': 'http://en.wikipedia.org/wiki/Kazuki_Nakajima', 'givenName': 'Kazuki', 'familyName': 'Nakajima', 'dateOfBirth': '1985-01-11', 'nationality': 'Japanese'}, 'Constructors': [{'constructorId': 'williams', 'url': 'http://en.wikipedia.org/wiki/Williams_Grand_Prix_Engineering', 'name': 'Williams', 'nationality': 'British'}]}, {'position': '12', 'positionText': '12', 'points': '3', 'wins': '0', 'Driver': {'driverId': 'button', 'permanentNumber': '22', 'code': 'BUT', 'url': 'http://en.wikipedia.org/wiki/Jenson_Button', 'givenName': 'Jenson', 'familyName': 'Button', 'dateOfBirth': '1980-01-19', 'nationality': 'British'}, 'Constructors': [{'constructorId': 'honda', 'url': 'http://en.wikipedia.org/wiki/Honda_Racing_F1', 'name': 'Honda', 'nationality': 'Japanese'}]}, {'position': '13', 'positionText': '13', 'points': '2', 'wins': '0', 'Driver': {'driverId': 'bourdais', 'code': 'BOU', 'url': 'http://en.wikipedia.org/wiki/S%C3%A9bastien_Bourdais', 'givenName': 'Sébastien', 'familyName': 'Bourdais', 'dateOfBirth': '1979-02-28', 'nationality': 'French'}, 'Constructors': [{'constructorId': 'toro_rosso', 'url': 'http://en.wikipedia.org/wiki/Scuderia_Toro_Rosso', 'name': 'Toro Rosso', 'nationality': 'Italian'}]}, {'position': '14', 'positionText': '14', 'points': '0', 'wins': '0', 'Driver': {'driverId': 'coulthard', 'code': 'COU', 'url': 'http://en.wikipedia.org/wiki/David_Coulthard', 'givenName': 'David', 'familyName': 'Coulthard', 'dateOfBirth': '1971-03-27', 'nationality': 'British'}, 'Constructors': [{'constructorId': 'red_bull', 'url': 'http://en.wikipedia.org/wiki/Red_Bull_Racing', 'name': 'Red Bull', 'nationality': 'Austrian'}]}, {'position': '15', 'positionText': '15', 'points': '0', 'wins': '0', 'Driver': {'driverId': 'glock', 'code': 'GLO', 'url': 'http://en.wikipedia.org/wiki/Timo_Glock', 'givenName': 'Timo', 'familyName': 'Glock', 'dateOfBirth': '1982-03-18', 'nationality': 'German'}, 'Constructors': [{'constructorId': 'toyota', 'url': 'http://en.wikipedia.org/wiki/Toyota_Racing', 'name': 'Toyota', 'nationality': 'Japanese'}]}, {'position': '16', 'positionText': '16', 'points': '0', 'wins': '0', 'Driver': {'driverId': 'fisichella', 'code': 'FIS', 'url': 'http://en.wikipedia.org/wiki/Giancarlo_Fisichella', 'givenName': 'Giancarlo', 'familyName': 'Fisichella', 'dateOfBirth': '1973-01-14', 'nationality': 'Italian'}, 'Constructors': [{'constructorId': 'force_india', 'url': 'http://en.wikipedia.org/wiki/Racing_Point_Force_India', 'name': 'Force India', 'nationality': 'Indian'}]}, {'position': '17', 'positionText': '17', 'points': '0', 'wins': '0', 'Driver': {'driverId': 'barrichello', 'code': 'BAR', 'url': 'http://en.wikipedia.org/wiki/Rubens_Barrichello', 'givenName': 'Rubens', 'familyName': 'Barrichello', 'dateOfBirth': '1972-05-23', 'nationality': 'Brazilian'}, 'Constructors': [{'constructorId': 'honda', 'url': 'http://en.wikipedia.org/wiki/Honda_Racing_F1', 'name': 'Honda', 'nationality': 'Japanese'}]}, {'position': '18', 'positionText': '18', 'points': '0', 'wins': '0', 'Driver': {'driverId': 'piquet_jr', 'code': 'PIQ', 'url': 'http://en.wikipedia.org/wiki/Nelson_Piquet,_Jr.', 'givenName': 'Nelson', 'familyName': 'Piquet Jr.', 'dateOfBirth': '1985-07-25', 'nationality': 'Brazilian'}, 'Constructors': [{'constructorId': 'renault', 'url': 'http://en.wikipedia.org/wiki/Renault_in_Formula_One', 'name': 'Renault', 'nationality': 'French'}]}, {'position': '19', 'positionText': '19', 'points': '0', 'wins': '0', 'Driver': {'driverId': 'sato', 'code': 'SAT', 'url': 'http://en.wikipedia.org/wiki/Takuma_Sato', 'givenName': 'Takuma', 'familyName': 'Sato', 'dateOfBirth': '1977-01-28', 'nationality': 'Japanese'}, 'Constructors': [{'constructorId': 'super_aguri', 'url': 'http://en.wikipedia.org/wiki/Super_Aguri_F1', 'name': 'Super Aguri', 'nationality': 'Japanese'}]}, {'position': '20', 'positionText': '20', 'points': '0', 'wins': '0', 'Driver': {'driverId': 'davidson', 'code': 'DAV', 'url': 'http://en.wikipedia.org/wiki/Anthony_Davidson', 'givenName': 'Anthony', 'familyName': 'Davidson', 'dateOfBirth': '1979-04-18', 'nationality': 'British'}, 'Constructors': [{'constructorId': 'super_aguri', 'url': 'http://en.wikipedia.org/wiki/Super_Aguri_F1', 'name': 'Super Aguri', 'nationality': 'Japanese'}]}, {'position': '21', 'positionText': '21', 'points': '0', 'wins': '0', 'Driver': {'driverId': 'sutil', 'permanentNumber': '99', 'code': 'SUT', 'url': 'http://en.wikipedia.org/wiki/Adrian_Sutil', 'givenName': 'Adrian', 'familyName': 'Sutil', 'dateOfBirth': '1983-01-11', 'nationality': 'German'}, 'Constructors': [{'constructorId': 'force_india', 'url': 'http://en.wikipedia.org/wiki/Racing_Point_Force_India', 'name': 'Force India', 'nationality': 'Indian'}]}, {'position': '22', 'positionText': '22', 'points': '0', 'wins': '0', 'Driver': {'driverId': 'vettel', 'permanentNumber': '5', 'code': 'VET', 'url': 'http://en.wikipedia.org/wiki/Sebastian_Vettel', 'givenName': 'Sebastian', 'familyName': 'Vettel', 'dateOfBirth': '1987-07-03', 'nationality': 'German'}, 'Constructors': [{'constructorId': 'toro_rosso', 'url': 'http://en.wikipedia.org/wiki/Scuderia_Toro_Rosso', 'name': 'Toro Rosso', 'nationality': 'Italian'}]}]\n"
     ]
    }
   ],
   "source": [
    "# We only want the Driver Standings\n",
    "data = response.json()['MRData']['StandingsTable']['StandingsLists'][0]['DriverStandings']\n",
    "print(data)"
   ]
  },
  {
   "cell_type": "code",
   "execution_count": 15,
   "id": "be46a950",
   "metadata": {},
   "outputs": [
    {
     "data": {
      "text/plain": [
       "list"
      ]
     },
     "execution_count": 15,
     "metadata": {},
     "output_type": "execute_result"
    }
   ],
   "source": [
    "type(data)"
   ]
  },
  {
   "cell_type": "code",
   "execution_count": 16,
   "id": "3740c752",
   "metadata": {
    "scrolled": true
   },
   "outputs": [
    {
     "data": {
      "text/plain": [
       "{'position': '1',\n",
       " 'positionText': '1',\n",
       " 'points': '35',\n",
       " 'wins': '2',\n",
       " 'Driver': {'driverId': 'raikkonen',\n",
       "  'permanentNumber': '7',\n",
       "  'code': 'RAI',\n",
       "  'url': 'http://en.wikipedia.org/wiki/Kimi_R%C3%A4ikk%C3%B6nen',\n",
       "  'givenName': 'Kimi',\n",
       "  'familyName': 'Räikkönen',\n",
       "  'dateOfBirth': '1979-10-17',\n",
       "  'nationality': 'Finnish'},\n",
       " 'Constructors': [{'constructorId': 'ferrari',\n",
       "   'url': 'http://en.wikipedia.org/wiki/Scuderia_Ferrari',\n",
       "   'name': 'Ferrari',\n",
       "   'nationality': 'Italian'}]}"
      ]
     },
     "execution_count": 16,
     "metadata": {},
     "output_type": "execute_result"
    }
   ],
   "source": [
    "data[0]"
   ]
  },
  {
   "cell_type": "code",
   "execution_count": 18,
   "id": "4efdf658",
   "metadata": {},
   "outputs": [
    {
     "name": "stdout",
     "output_type": "stream",
     "text": [
      "[{'Kimi Räikkönen': {'first_name': 'Kimi', 'last_name': 'Räikkönen', 'position': '1', 'wins': '2', 'DOB': '1979-10-17', 'nationality': 'Finnish', 'constructor': 'Ferrari'}}, {'Felipe Massa': {'first_name': 'Felipe', 'last_name': 'Massa', 'position': '2', 'wins': '2', 'DOB': '1981-04-25', 'nationality': 'Brazilian', 'constructor': 'Ferrari'}}, {'Lewis Hamilton': {'first_name': 'Lewis', 'last_name': 'Hamilton', 'position': '3', 'wins': '1', 'DOB': '1985-01-07', 'nationality': 'British', 'constructor': 'McLaren'}}, {'Robert Kubica': {'first_name': 'Robert', 'last_name': 'Kubica', 'position': '4', 'wins': '0', 'DOB': '1984-12-07', 'nationality': 'Polish', 'constructor': 'BMW Sauber'}}, {'Nick Heidfeld': {'first_name': 'Nick', 'last_name': 'Heidfeld', 'position': '5', 'wins': '0', 'DOB': '1977-05-10', 'nationality': 'German', 'constructor': 'BMW Sauber'}}, {'Heikki Kovalainen': {'first_name': 'Heikki', 'last_name': 'Kovalainen', 'position': '6', 'wins': '0', 'DOB': '1981-10-19', 'nationality': 'Finnish', 'constructor': 'McLaren'}}, {'Mark Webber': {'first_name': 'Mark', 'last_name': 'Webber', 'position': '7', 'wins': '0', 'DOB': '1976-08-27', 'nationality': 'Australian', 'constructor': 'Red Bull'}}, {'Fernando Alonso': {'first_name': 'Fernando', 'last_name': 'Alonso', 'position': '8', 'wins': '0', 'DOB': '1981-07-29', 'nationality': 'Spanish', 'constructor': 'Renault'}}, {'Jarno Trulli': {'first_name': 'Jarno', 'last_name': 'Trulli', 'position': '9', 'wins': '0', 'DOB': '1974-07-13', 'nationality': 'Italian', 'constructor': 'Toyota'}}, {'Nico Rosberg': {'first_name': 'Nico', 'last_name': 'Rosberg', 'position': '10', 'wins': '0', 'DOB': '1985-06-27', 'nationality': 'German', 'constructor': 'Williams'}}, {'Kazuki Nakajima': {'first_name': 'Kazuki', 'last_name': 'Nakajima', 'position': '11', 'wins': '0', 'DOB': '1985-01-11', 'nationality': 'Japanese', 'constructor': 'Williams'}}, {'Jenson Button': {'first_name': 'Jenson', 'last_name': 'Button', 'position': '12', 'wins': '0', 'DOB': '1980-01-19', 'nationality': 'British', 'constructor': 'Honda'}}, {'Sébastien Bourdais': {'first_name': 'Sébastien', 'last_name': 'Bourdais', 'position': '13', 'wins': '0', 'DOB': '1979-02-28', 'nationality': 'French', 'constructor': 'Toro Rosso'}}, {'David Coulthard': {'first_name': 'David', 'last_name': 'Coulthard', 'position': '14', 'wins': '0', 'DOB': '1971-03-27', 'nationality': 'British', 'constructor': 'Red Bull'}}, {'Timo Glock': {'first_name': 'Timo', 'last_name': 'Glock', 'position': '15', 'wins': '0', 'DOB': '1982-03-18', 'nationality': 'German', 'constructor': 'Toyota'}}, {'Giancarlo Fisichella': {'first_name': 'Giancarlo', 'last_name': 'Fisichella', 'position': '16', 'wins': '0', 'DOB': '1973-01-14', 'nationality': 'Italian', 'constructor': 'Force India'}}, {'Rubens Barrichello': {'first_name': 'Rubens', 'last_name': 'Barrichello', 'position': '17', 'wins': '0', 'DOB': '1972-05-23', 'nationality': 'Brazilian', 'constructor': 'Honda'}}, {'Nelson Piquet Jr.': {'first_name': 'Nelson', 'last_name': 'Piquet Jr.', 'position': '18', 'wins': '0', 'DOB': '1985-07-25', 'nationality': 'Brazilian', 'constructor': 'Renault'}}, {'Takuma Sato': {'first_name': 'Takuma', 'last_name': 'Sato', 'position': '19', 'wins': '0', 'DOB': '1977-01-28', 'nationality': 'Japanese', 'constructor': 'Super Aguri'}}, {'Anthony Davidson': {'first_name': 'Anthony', 'last_name': 'Davidson', 'position': '20', 'wins': '0', 'DOB': '1979-04-18', 'nationality': 'British', 'constructor': 'Super Aguri'}}, {'Adrian Sutil': {'first_name': 'Adrian', 'last_name': 'Sutil', 'position': '21', 'wins': '0', 'DOB': '1983-01-11', 'nationality': 'German', 'constructor': 'Force India'}}, {'Sebastian Vettel': {'first_name': 'Sebastian', 'last_name': 'Vettel', 'position': '22', 'wins': '0', 'DOB': '1987-07-03', 'nationality': 'German', 'constructor': 'Toro Rosso'}}]\n"
     ]
    }
   ],
   "source": [
    "def get_racer_info(data):\n",
    "    new_data = []\n",
    "    for racer in data:\n",
    "        racer_dict = {}\n",
    "        racer_name = f\"{racer['Driver']['givenName']} {racer['Driver']['familyName']}\"\n",
    "        racer_dict[racer_name]={\n",
    "            \"first_name\":racer['Driver']['givenName'],\n",
    "            \"last_name\":racer['Driver']['familyName'],\n",
    "            \"position\":racer['position'],\n",
    "            \"wins\":racer['wins'],\n",
    "            \"DOB\":racer['Driver']['dateOfBirth'],\n",
    "            \"nationality\":racer['Driver']['nationality'],\n",
    "            \"constructor\":racer['Constructors'][0]['name']\n",
    "        }\n",
    "        new_data.append(racer_dict)\n",
    "    return new_data\n",
    "            \n",
    "print(get_racer_info(data))"
   ]
  },
  {
   "cell_type": "code",
   "execution_count": 20,
   "id": "a816caee",
   "metadata": {},
   "outputs": [
    {
     "name": "stdout",
     "output_type": "stream",
     "text": [
      "empty\n"
     ]
    }
   ],
   "source": [
    "if not []:\n",
    "    print('empty')"
   ]
  },
  {
   "cell_type": "code",
   "execution_count": 21,
   "id": "09b98426",
   "metadata": {},
   "outputs": [
    {
     "ename": "UnboundLocalError",
     "evalue": "local variable 'response' referenced before assignment",
     "output_type": "error",
     "traceback": [
      "\u001b[1;31m---------------------------------------------------------------------------\u001b[0m",
      "\u001b[1;31mUnboundLocalError\u001b[0m                         Traceback (most recent call last)",
      "\u001b[1;32m~\\AppData\\Local\\Temp/ipykernel_2752/3297582443.py\u001b[0m in \u001b[0;36m<module>\u001b[1;34m\u001b[0m\n\u001b[0;32m     11\u001b[0m \u001b[1;31m# 2018 3\u001b[0m\u001b[1;33m\u001b[0m\u001b[1;33m\u001b[0m\u001b[0m\n\u001b[0;32m     12\u001b[0m \u001b[1;33m\u001b[0m\u001b[0m\n\u001b[1;32m---> 13\u001b[1;33m \u001b[0mprint\u001b[0m\u001b[1;33m(\u001b[0m\u001b[0mget_driver_info_by_year_and_round\u001b[0m\u001b[1;33m(\u001b[0m\u001b[1;36m2018\u001b[0m\u001b[1;33m,\u001b[0m\u001b[1;36m3\u001b[0m\u001b[1;33m)\u001b[0m\u001b[1;33m)\u001b[0m\u001b[1;33m\u001b[0m\u001b[1;33m\u001b[0m\u001b[0m\n\u001b[0m\u001b[0;32m     14\u001b[0m \u001b[1;33m\u001b[0m\u001b[0m\n",
      "\u001b[1;32m~\\AppData\\Local\\Temp/ipykernel_2752/3297582443.py\u001b[0m in \u001b[0;36mget_driver_info_by_year_and_round\u001b[1;34m(year, r)\u001b[0m\n\u001b[0;32m      1\u001b[0m \u001b[1;32mdef\u001b[0m \u001b[0mget_driver_info_by_year_and_round\u001b[0m\u001b[1;33m(\u001b[0m\u001b[0myear\u001b[0m\u001b[1;33m,\u001b[0m \u001b[0mr\u001b[0m\u001b[1;33m)\u001b[0m\u001b[1;33m:\u001b[0m\u001b[1;33m\u001b[0m\u001b[1;33m\u001b[0m\u001b[0m\n\u001b[0;32m      2\u001b[0m     \u001b[0murl\u001b[0m \u001b[1;33m=\u001b[0m \u001b[1;34mf'http://ergast.com/api/f1/{year}/{r}/driverStandings.json'\u001b[0m\u001b[1;33m\u001b[0m\u001b[1;33m\u001b[0m\u001b[0m\n\u001b[1;32m----> 3\u001b[1;33m     \u001b[0mresponse\u001b[0m \u001b[1;33m=\u001b[0m \u001b[0mresponse\u001b[0m\u001b[1;33m.\u001b[0m\u001b[0mget\u001b[0m\u001b[1;33m(\u001b[0m\u001b[0murl\u001b[0m\u001b[1;33m)\u001b[0m\u001b[1;33m\u001b[0m\u001b[1;33m\u001b[0m\u001b[0m\n\u001b[0m\u001b[0;32m      4\u001b[0m     \u001b[1;32mif\u001b[0m \u001b[1;32mnot\u001b[0m \u001b[0mresponse\u001b[0m\u001b[1;33m.\u001b[0m\u001b[0mok\u001b[0m\u001b[1;33m:\u001b[0m\u001b[1;33m\u001b[0m\u001b[1;33m\u001b[0m\u001b[0m\n\u001b[0;32m      5\u001b[0m         \u001b[1;32mreturn\u001b[0m \u001b[1;34m'We had an error.'\u001b[0m\u001b[1;33m\u001b[0m\u001b[1;33m\u001b[0m\u001b[0m\n",
      "\u001b[1;31mUnboundLocalError\u001b[0m: local variable 'response' referenced before assignment"
     ]
    }
   ],
   "source": [
    "def get_driver_info_by_year_and_round(year, r):\n",
    "    url = f'http://ergast.com/api/f1/{year}/{r}/driverStandings.json'\n",
    "    response = response.get(url)\n",
    "    if not response.ok:\n",
    "        return 'We had an error.'\n",
    "    if not response.json()[\"MRData\"][\"StandingsTable\"][\"StandingsLists\"]:\n",
    "        return \"We had an error loading your data most likely because the year/round combo is not in the database.\"\n",
    "    data = response.json()['MRData']['StandingsTable']['StandingsLists'][0]['DriverStandings']\n",
    "    return get_racer_info(data)\n",
    "        \n",
    "# 2018 3\n",
    "\n",
    "print(get_driver_info_by_year_and_round(2018,3))\n",
    "    "
   ]
  },
  {
   "cell_type": "markdown",
   "id": "6d546014",
   "metadata": {},
   "source": [
    "# <strong>Homework</strong>\n",
    "check out this Pokemon API https://pokeapi.co/\n",
    "Use the requests package to connect to this API and get and store data for 5 different pokemon.\n",
    "Get the pokemons: name, atleast one ability's name, base_experience, and the URL for its sprite (an image that shows up on screen) for the 'front_shiny', attack base_state, hp base_stat, defense base_stat"
   ]
  },
  {
   "cell_type": "code",
   "execution_count": 2,
   "id": "5a9081e3",
   "metadata": {
    "scrolled": true
   },
   "outputs": [
    {
     "name": "stdout",
     "output_type": "stream",
     "text": [
      "{'name': 'pikachu', 'one_ability': 'static', 'base_experience': 112, 'sprite': 'https://raw.githubusercontent.com/PokeAPI/sprites/master/sprites/pokemon/shiny/25.png', 'attack_base': 55, 'hp_base': 40, 'defense_base': 40}\n"
     ]
    }
   ],
   "source": [
    "# Name is in key \"species\" key \"name\"\n",
    "# Abilities is key \"abilities\" index[0] key \"ability\" key \"name\"\n",
    "# Base exp is in key \"base_experience\"\n",
    "# Sprite is in key \"sprites\" key \"front_shiny\"\n",
    "# Attack base is in key \"stats\" index[1] key \"base_stat\"\n",
    "# HP base is in key \"stats\" index[0] key \"base_stat\"\n",
    "# Defense base in key \"stats\" index [2] key \"base_stat\"\n",
    "\n",
    "\n",
    "import requests\n",
    "\n",
    "# pikachu\n",
    "url = 'https://pokeapi.co/api/v2/pokemon/pikachu'\n",
    "pikachu_api = requests.get(url)\n",
    "pikachu_data = pikachu_api.json()\n",
    "\n",
    "\n",
    "def pokemon_info(pikachu_data):\n",
    "    \n",
    "    pikachu = {\n",
    "        \"name\":pikachu_data['species']['name'],\n",
    "        \"one_ability\":pikachu_data['abilities'][0]['ability']['name'],\n",
    "        \"base_experience\":pikachu_data['base_experience'],\n",
    "        \"sprite\":pikachu_data['sprites']['front_shiny'],\n",
    "        \"attack_base\":pikachu_data['stats'][1]['base_stat'],\n",
    "        \"hp_base\":pikachu_data['stats'][2]['base_stat'],\n",
    "        \"defense_base\":pikachu_data['stats'][2]['base_stat']\n",
    "    }\n",
    "    return pikachu\n",
    "\n",
    "print(pokemon_info(pikachu_data))\n",
    "\n",
    "\n"
   ]
  },
  {
   "cell_type": "code",
   "execution_count": 3,
   "id": "d8b52083",
   "metadata": {},
   "outputs": [
    {
     "name": "stdout",
     "output_type": "stream",
     "text": [
      "{'name': 'squirtle', 'one_ability': 'torrent', 'base_experience': 63, 'sprite': 'https://raw.githubusercontent.com/PokeAPI/sprites/master/sprites/pokemon/shiny/7.png', 'attack_base': 48, 'hp_base': 65, 'defense_base': 65}\n"
     ]
    }
   ],
   "source": [
    "# squirtle\n",
    "s_url = 'https://pokeapi.co/api/v2/pokemon/squirtle'\n",
    "squirtle_api = requests.get(s_url)\n",
    "squirtle_data = squirtle_api.json()\n",
    "\n",
    "def pokemon_info(squirtle_data):\n",
    "    \n",
    "    squirtle = {\n",
    "        \"name\":squirtle_data['species']['name'],\n",
    "        \"one_ability\":squirtle_data['abilities'][0]['ability']['name'],\n",
    "        \"base_experience\":squirtle_data['base_experience'],\n",
    "        \"sprite\":squirtle_data['sprites']['front_shiny'],\n",
    "        \"attack_base\":squirtle_data['stats'][1]['base_stat'],\n",
    "        \"hp_base\":squirtle_data['stats'][2]['base_stat'],\n",
    "        \"defense_base\":squirtle_data['stats'][2]['base_stat']\n",
    "    }\n",
    "    return squirtle\n",
    "\n",
    "print(pokemon_info(squirtle_data))\n",
    "\n"
   ]
  },
  {
   "cell_type": "code",
   "execution_count": 7,
   "id": "9016cfa2",
   "metadata": {},
   "outputs": [
    {
     "name": "stdout",
     "output_type": "stream",
     "text": [
      "{'name': 'sandslash', 'one_ability': 'sand-veil', 'base_experience': 158, 'sprite': 'https://raw.githubusercontent.com/PokeAPI/sprites/master/sprites/pokemon/shiny/28.png', 'attack_base': 100, 'hp_base': 110, 'defense_base': 110}\n"
     ]
    }
   ],
   "source": [
    "# sandslash\n",
    "sa_url = 'https://pokeapi.co/api/v2/pokemon/sandslash'\n",
    "sandslash_api = requests.get(sa_url)\n",
    "sandslash_data = sandslash_api.json()\n",
    "\n",
    "def pokemon_info(sandslash_data):\n",
    "    \n",
    "    sandslash = {\n",
    "        \"name\":sandslash_data['species']['name'],\n",
    "        \"one_ability\":sandslash_data['abilities'][0]['ability']['name'],\n",
    "        \"base_experience\":sandslash_data['base_experience'],\n",
    "        \"sprite\":sandslash_data['sprites']['front_shiny'],\n",
    "        \"attack_base\":sandslash_data['stats'][1]['base_stat'],\n",
    "        \"hp_base\":sandslash_data['stats'][2]['base_stat'],\n",
    "        \"defense_base\":sandslash_data['stats'][2]['base_stat']\n",
    "    }\n",
    "    return sandslash\n",
    "\n",
    "\n",
    "print(pokemon_info(sandslash_data))"
   ]
  },
  {
   "cell_type": "code",
   "execution_count": 9,
   "id": "7232f3d5",
   "metadata": {},
   "outputs": [
    {
     "name": "stdout",
     "output_type": "stream",
     "text": [
      "{'name': 'nidorina', 'one_ability': 'poison-point', 'base_experience': 128, 'sprite': 'https://raw.githubusercontent.com/PokeAPI/sprites/master/sprites/pokemon/shiny/30.png', 'attack_base': 62, 'hp_base': 67, 'defense_base': 67}\n"
     ]
    }
   ],
   "source": [
    "# nidorina\n",
    "n_url = 'https://pokeapi.co/api/v2/pokemon/nidorina'\n",
    "nidorina_api = requests.get(n_url)\n",
    "nidorina_data = nidorina_api.json()\n",
    "\n",
    "def pokemon_info(nidorina_data):\n",
    "    \n",
    "    nidorina = {\n",
    "        \"name\":nidorina_data['species']['name'],\n",
    "        \"one_ability\":nidorina_data['abilities'][0]['ability']['name'],\n",
    "        \"base_experience\":nidorina_data['base_experience'],\n",
    "        \"sprite\":nidorina_data['sprites']['front_shiny'],\n",
    "        \"attack_base\":nidorina_data['stats'][1]['base_stat'],\n",
    "        \"hp_base\":nidorina_data['stats'][2]['base_stat'],\n",
    "        \"defense_base\":nidorina_data['stats'][2]['base_stat']\n",
    "    }\n",
    "    return nidorina\n",
    "\n",
    "print(pokemon_info(nidorina_data))"
   ]
  },
  {
   "cell_type": "code",
   "execution_count": 11,
   "id": "36ca9d11",
   "metadata": {},
   "outputs": [
    {
     "name": "stdout",
     "output_type": "stream",
     "text": [
      "{'name': 'growlithe', 'one_ability': 'intimidate', 'base_experience': 70, 'sprite': 'https://raw.githubusercontent.com/PokeAPI/sprites/master/sprites/pokemon/shiny/58.png', 'attack_base': 70, 'hp_base': 45, 'defense_base': 45}\n"
     ]
    }
   ],
   "source": [
    "# growlithe\n",
    "g_url = 'https://pokeapi.co/api/v2/pokemon/growlithe'\n",
    "growlithe_api = requests.get(g_url)\n",
    "growlithe_data = growlithe_api.json()\n",
    "\n",
    "def pokemon_info(growlithe_data):\n",
    "    \n",
    "    growlithe = {\n",
    "        \"name\":growlithe_data['species']['name'],\n",
    "        \"one_ability\":growlithe_data['abilities'][0]['ability']['name'],\n",
    "        \"base_experience\":growlithe_data['base_experience'],\n",
    "        \"sprite\":growlithe_data['sprites']['front_shiny'],\n",
    "        \"attack_base\":growlithe_data['stats'][1]['base_stat'],\n",
    "        \"hp_base\":growlithe_data['stats'][2]['base_stat'],\n",
    "        \"defense_base\":growlithe_data['stats'][2]['base_stat']\n",
    "    }\n",
    "    return growlithe\n",
    "\n",
    "print(pokemon_info(growlithe_data))\n"
   ]
  },
  {
   "cell_type": "code",
   "execution_count": 14,
   "id": "8f567a16",
   "metadata": {},
   "outputs": [
    {
     "name": "stdout",
     "output_type": "stream",
     "text": [
      "My favorite Pokemon are: \n",
      "\n",
      "Pikachu: \n",
      "{'name': 'pikachu', 'one_ability': 'static', 'base_experience': 112, 'sprite': 'https://raw.githubusercontent.com/PokeAPI/sprites/master/sprites/pokemon/shiny/25.png', 'attack_base': 55, 'hp_base': 40, 'defense_base': 40}\n",
      "\n",
      "Squirtle: \n",
      "{'name': 'squirtle', 'one_ability': 'torrent', 'base_experience': 63, 'sprite': 'https://raw.githubusercontent.com/PokeAPI/sprites/master/sprites/pokemon/shiny/7.png', 'attack_base': 48, 'hp_base': 65, 'defense_base': 65}\n",
      "\n",
      "Sandslash: \n",
      "{'name': 'sandslash', 'one_ability': 'sand-veil', 'base_experience': 158, 'sprite': 'https://raw.githubusercontent.com/PokeAPI/sprites/master/sprites/pokemon/shiny/28.png', 'attack_base': 100, 'hp_base': 110, 'defense_base': 110}\n",
      "\n",
      "Nidorina: \n",
      "{'name': 'nidorina', 'one_ability': 'poison-point', 'base_experience': 128, 'sprite': 'https://raw.githubusercontent.com/PokeAPI/sprites/master/sprites/pokemon/shiny/30.png', 'attack_base': 62, 'hp_base': 67, 'defense_base': 67}\n",
      "\n",
      "Growlithe: \n",
      "{'name': 'growlithe', 'one_ability': 'intimidate', 'base_experience': 70, 'sprite': 'https://raw.githubusercontent.com/PokeAPI/sprites/master/sprites/pokemon/shiny/58.png', 'attack_base': 70, 'hp_base': 45, 'defense_base': 45}\n"
     ]
    }
   ],
   "source": [
    "print(\"My favorite Pokemon are: \")\n",
    "print(\"\\nPikachu: \")\n",
    "print(pokemon_info(pikachu_data))\n",
    "print(\"\\nSquirtle: \")\n",
    "print(pokemon_info(squirtle_data))\n",
    "print(\"\\nSandslash: \")\n",
    "print(pokemon_info(sandslash_data))\n",
    "print(\"\\nNidorina: \")\n",
    "print(pokemon_info(nidorina_data))\n",
    "print(\"\\nGrowlithe: \")\n",
    "print(pokemon_info(growlithe_data))\n"
   ]
  }
 ],
 "metadata": {
  "kernelspec": {
   "display_name": "Python 3 (ipykernel)",
   "language": "python",
   "name": "python3"
  },
  "language_info": {
   "codemirror_mode": {
    "name": "ipython",
    "version": 3
   },
   "file_extension": ".py",
   "mimetype": "text/x-python",
   "name": "python",
   "nbconvert_exporter": "python",
   "pygments_lexer": "ipython3",
   "version": "3.9.7"
  }
 },
 "nbformat": 4,
 "nbformat_minor": 5
}
